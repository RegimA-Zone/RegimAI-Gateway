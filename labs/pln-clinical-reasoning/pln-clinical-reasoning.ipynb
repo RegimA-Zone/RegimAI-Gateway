# 🔬 PLN Clinical Reasoning

## Overview

This lab demonstrates the implementation of Probabilistic Logic Networks (PLN) for clinical decision support through the RegimAI Gateway. It shows how medical reasoning and uncertainty handling are integrated into AI service routing and response generation for dermatology applications.

![PLN Clinical Reasoning Flow](../../images/pln-reasoning.gif)

The lab demonstrates:
- **Clinical Inference**: PLN-based probabilistic reasoning for medical decisions
- **Uncertainty Quantification**: Handling medical uncertainty with confidence intervals
- **Evidence Integration**: Incorporating clinical evidence into reasoning chains
- **Decision Support**: Automated clinical decision support for dermatology

## Prerequisites

- [Python 3.12 or later](https://www.python.org/) installed
- [Azure subscription](https://azure.microsoft.com/free/) with medical AI permissions
- [Azure CLI](https://learn.microsoft.com/cli/azure/install-azure-cli) configured
- **Clinical Background** recommended for interpreting reasoning results
- **PLN Understanding** helpful for advanced customization

## Clinical Reasoning Architecture

```
┌─────────────────┐    ┌──────────────────┐    ┌─────────────────┐
│ Clinical Query  │───▶│  RegimAI Gateway │───▶│ PLN Reasoning   │
└─────────────────┘    └──────────────────┘    │ Engine          │
                                │               └─────────────────┘
                                ▼                        │
                       ┌──────────────────┐             ▼
                       │ Evidence Base    │    ┌─────────────────┐
                       │ ┌──────────────┐ │    │ Clinical        │
                       │ │ Clinical     │ │    │ Recommendation │
                       │ │ Studies      │ │    │ with            │
                       │ └──────────────┘ │    │ Confidence      │
                       │ ┌──────────────┐ │    └─────────────────┘
                       │ │ Guidelines   │ │
                       │ └──────────────┘ │
                       │ ┌──────────────┐ │
                       │ │ Expert       │ │
                       │ │ Knowledge    │ │
                       │ └──────────────┘ │
                       └──────────────────┘
```

## Lab Configuration

```python
import os, sys, json
sys.path.insert(1, '../../shared')
import utils

deployment_name = os.path.basename(os.path.dirname(globals()['__vsc_ipynb_file__']))
resource_group_name = f"lab-{deployment_name}"
resource_group_location = "uksouth"

# PLN reasoning configuration
pln_config = {
    "reasoning_engine": "PLN-4.0",
    "inference_modes": ["forward_chaining", "backward_chaining", "abduction"],
    "evidence_integration": True,
    "uncertainty_handling": "bayesian",
    "clinical_validation": True,
    "medical_ontology": "SNOMED-CT"
}

# Clinical AI models
openai_config = [
    {
        "name": "clinical-reasoning-gpt4", 
        "location": "uksouth",
        "specialization": "clinical_decision_support"
    }
]

# Model configuration for clinical reasoning
models_config = [
    {
        "name": "gpt-4-clinical-reasoning", 
        "publisher": "OpenAI", 
        "version": "2024-04-09", 
        "sku": "GlobalStandard", 
        "capacity": 20,
        "clinical_certified": True,
        "reasoning_optimized": True
    }
]

apim_sku = 'PremiumV2'  # Premium tier for advanced reasoning
apim_subscriptions_config = [
    {
        "name": "clinical-reasoning-subscription", 
        "displayName": "PLN Clinical Reasoning Access",
        "reasoning_tier": "advanced"
    }
]

pln_api_path = "cognitive/reasoning"
```

## Deploying the Clinical Reasoning Lab

```python
# Deploy infrastructure with PLN reasoning support
deployment_result = utils.deploy_lab(
    deployment_name=deployment_name,
    resource_group_name=resource_group_name,
    resource_group_location=resource_group_location,
    openai_config=openai_config,
    models_config=models_config,
    apim_sku=apim_sku,
    apim_subscriptions_config=apim_subscriptions_config,
    pln_config=pln_config
)

print("✅ PLN Clinical Reasoning lab deployed successfully!")
print(f"🌐 Gateway URL: {deployment_result['gateway_url']}")
print(f"🔬 PLN Reasoning Endpoint: {deployment_result['gateway_url']}/{pln_api_path}")
```

## Clinical Knowledge Base

Define medical knowledge with truth values and confidence measures:

```python
# Clinical knowledge base for PLN reasoning
clinical_knowledge = {
    "conditions": {
        "acne_vulgaris": {
            "prevalence": {"strength": 0.85, "confidence": 0.9},
            "age_group": "adolescent_young_adult",
            "severity_levels": ["mild", "moderate", "severe"],
            "pathophysiology": {
                "sebaceous_hyperactivity": {"strength": 0.9, "confidence": 0.95},
                "bacterial_colonization": {"strength": 0.8, "confidence": 0.9},
                "inflammation": {"strength": 0.85, "confidence": 0.9}
            }
        },
        "atopic_dermatitis": {
            "prevalence": {"strength": 0.7, "confidence": 0.85},
            "age_group": "pediatric_adult",
            "genetic_component": {"strength": 0.8, "confidence": 0.9},
            "environmental_triggers": {"strength": 0.9, "confidence": 0.85}
        }
    },
    
    "treatments": {
        "topical_retinoids": {
            "mechanism": "comedolytic_antiinflammatory",
            "efficacy": {
                "acne_vulgaris": {"strength": 0.85, "confidence": 0.92},
                "photoaging": {"strength": 0.8, "confidence": 0.88}
            },
            "evidence_level": "A",
            "side_effects": {
                "irritation": {"strength": 0.6, "confidence": 0.8},
                "photosensitivity": {"strength": 0.4, "confidence": 0.7}
            }
        },
        "topical_corticosteroids": {
            "mechanism": "antiinflammatory",
            "efficacy": {
                "atopic_dermatitis": {"strength": 0.9, "confidence": 0.95},
                "contact_dermatitis": {"strength": 0.85, "confidence": 0.9}
            },
            "contraindications": {
                "facial_application_longterm": {"strength": 0.9, "confidence": 0.95}
            }
        }
    },
    
    "reasoning_rules": [
        {
            "name": "acne_severity_treatment_rule",
            "premise": "patient_has_moderate_acne AND age_appropriate",
            "conclusion": "recommend_topical_retinoid",
            "strength": 0.85,
            "confidence": 0.9,
            "evidence": ["randomized_controlled_trials", "clinical_guidelines"]
        },
        {
            "name": "contraindication_rule",
            "premise": "patient_pregnant AND retinoid_recommended",
            "conclusion": "contraindicated_avoid_retinoid",
            "strength": 0.98,
            "confidence": 0.99,
            "evidence": ["fda_warnings", "teratogenicity_studies"]
        }
    ]
}

print("📚 Clinical knowledge base loaded:")
print(json.dumps(clinical_knowledge, indent=2))
```

## PLN Reasoning Interface

```python
import requests

# Gateway endpoints
gateway_url = deployment_result['gateway_url']
pln_endpoint = f"{gateway_url}/{pln_api_path}"

def perform_clinical_reasoning(clinical_scenario, reasoning_type="diagnosis_support"):
    """
    Perform PLN-based clinical reasoning
    """
    headers = {
        'X-API-Key': deployment_result['api_key'],
        'Content-Type': 'application/json'
    }
    
    reasoning_request = {
        "scenario": clinical_scenario,
        "reasoning_type": reasoning_type,
        "inference_mode": "forward_chaining",
        "evidence_required": True,
        "uncertainty_handling": True,
        "clinical_validation": True,
        "confidence_threshold": 0.7
    }
    
    response = requests.post(pln_endpoint, 
                           headers=headers, 
                           json=reasoning_request)
    
    if response.status_code == 200:
        return response.json()
    else:
        print(f"❌ Reasoning failed: {response.status_code}")
        return None

# Test clinical reasoning scenarios
print("🔬 Testing PLN Clinical Reasoning...")

# Scenario 1: Acne treatment selection
acne_scenario = {
    "patient": {
        "age": 16,
        "gender": "female",
        "skin_type": "oily",
        "pregnancy_status": "not_pregnant"
    },
    "condition": {
        "diagnosis": "acne_vulgaris",
        "severity": "moderate",
        "location": "face",
        "duration": "6_months"
    },
    "previous_treatments": ["topical_antibiotics"],
    "treatment_response": "partial_improvement"
}

acne_reasoning = perform_clinical_reasoning(acne_scenario, "treatment_selection")
print("\\nAcne treatment reasoning:")
print(json.dumps(acne_reasoning, indent=2))
```

## Advanced Clinical Inference

```python
def perform_differential_diagnosis(symptoms, patient_context):
    """
    Perform differential diagnosis using PLN reasoning
    """
    headers = {
        'X-API-Key': deployment_result['api_key'],
        'Content-Type': 'application/json'
    }
    
    diagnosis_request = {
        "symptoms": symptoms,
        "patient_context": patient_context,
        "reasoning_type": "differential_diagnosis",
        "inference_mode": "abduction",
        "generate_probabilities": True,
        "evidence_ranking": True,
        "differential_count": 5
    }
    
    response = requests.post(f"{pln_endpoint}/differential", 
                           headers=headers, 
                           json=diagnosis_request)
    
    return response.json() if response.status_code == 200 else None

# Test differential diagnosis
symptoms = [
    {"symptom": "red_scaly_patches", "severity": "moderate", "location": "elbows_knees"},
    {"symptom": "itching", "severity": "mild", "frequency": "intermittent"},
    {"symptom": "skin_thickening", "severity": "mild", "location": "affected_areas"}
]

patient_context = {
    "age": 35,
    "family_history": ["psoriasis"],
    "triggers": ["stress", "cold_weather"],
    "duration": "3_months"
}

differential = perform_differential_diagnosis(symptoms, patient_context)
print("🔍 Differential diagnosis reasoning:")
print(json.dumps(differential, indent=2))
```

## Evidence-Based Treatment Recommendations

```python
def get_evidence_based_treatment(diagnosis, patient_factors, evidence_level="high"):
    """
    Generate evidence-based treatment recommendations
    """
    headers = {
        'X-API-Key': deployment_result['api_key'],
        'Content-Type': 'application/json'
    }
    
    treatment_request = {
        "diagnosis": diagnosis,
        "patient_factors": patient_factors,
        "evidence_level": evidence_level,
        "reasoning_type": "treatment_optimization",
        "inference_mode": "forward_chaining",
        "consider_contraindications": True,
        "personalization": True
    }
    
    response = requests.post(f"{pln_endpoint}/treatment", 
                           headers=headers, 
                           json=treatment_request)
    
    return response.json() if response.status_code == 200 else None

# Test evidence-based treatment selection
diagnosis = "atopic_dermatitis"
patient_factors = {
    "age": 8,
    "severity": "moderate",
    "location": ["face", "arms"],
    "previous_treatments": ["topical_moisturizers"],
    "allergies": ["fragrance"],
    "family_history": ["atopic_dermatitis", "asthma"]
}

treatment_recommendation = get_evidence_based_treatment(diagnosis, patient_factors)
print("💊 Evidence-based treatment recommendation:")
print(json.dumps(treatment_recommendation, indent=2))
```

## Uncertainty Quantification

```python
def analyze_clinical_uncertainty(clinical_case):
    """
    Analyze and quantify clinical uncertainty using PLN
    """
    headers = {
        'X-API-Key': deployment_result['api_key'],
        'Content-Type': 'application/json'
    }
    
    uncertainty_request = {
        "clinical_case": clinical_case,
        "reasoning_type": "uncertainty_analysis",
        "quantify_confidence": True,
        "identify_knowledge_gaps": True,
        "suggest_additional_testing": True
    }
    
    response = requests.post(f"{pln_endpoint}/uncertainty", 
                           headers=headers, 
                           json=uncertainty_request)
    
    return response.json() if response.status_code == 200 else None

# Test uncertainty analysis
uncertain_case = {
    "patient": {
        "age": 45,
        "gender": "male"
    },
    "presentation": {
        "chief_complaint": "changing_mole",
        "duration": "3_weeks",
        "characteristics": ["asymmetric", "irregular_border", "color_variation"],
        "size": "8mm_diameter"
    },
    "history": {
        "sun_exposure": "significant",
        "family_history": "unknown",
        "previous_skin_lesions": "multiple_moles"
    }
}

uncertainty_analysis = analyze_clinical_uncertainty(uncertain_case)
print("🎯 Clinical uncertainty analysis:")
print(json.dumps(uncertainty_analysis, indent=2))
```

## Clinical Decision Tree Generation

```python
def generate_clinical_decision_tree(condition, decision_points):
    """
    Generate clinical decision tree using PLN reasoning
    """
    headers = {
        'X-API-Key': deployment_result['api_key'],
        'Content-Type': 'application/json'
    }
    
    decision_tree_request = {
        "condition": condition,
        "decision_points": decision_points,
        "reasoning_type": "decision_tree_generation",
        "include_probabilities": True,
        "evidence_based": True,
        "interactive": True
    }
    
    response = requests.post(f"{pln_endpoint}/decision-tree", 
                           headers=headers, 
                           json=decision_tree_request)
    
    return response.json() if response.status_code == 200 else None

# Generate decision tree for acne management
decision_points = [
    "assess_severity",
    "determine_age_appropriateness", 
    "check_contraindications",
    "select_first_line_treatment",
    "monitor_response",
    "adjust_therapy"
]

acne_decision_tree = generate_clinical_decision_tree("acne_vulgaris", decision_points)
print("🌳 Clinical decision tree:")
print(json.dumps(acne_decision_tree, indent=2))
```

## Real-time Clinical Monitoring

```python
def setup_clinical_monitoring(patient_id, monitoring_parameters):
    """
    Setup real-time clinical monitoring with PLN-based alerts
    """
    headers = {
        'X-API-Key': deployment_result['api_key'],
        'Content-Type': 'application/json'
    }
    
    monitoring_request = {
        "patient_id": patient_id,
        "parameters": monitoring_parameters,
        "reasoning_type": "temporal_monitoring",
        "alert_thresholds": True,
        "predictive_analysis": True,
        "intervention_suggestions": True
    }
    
    response = requests.post(f"{pln_endpoint}/monitoring", 
                           headers=headers, 
                           json=monitoring_request)
    
    return response.json() if response.status_code == 200 else None

# Setup monitoring for treatment response
monitoring_params = {
    "condition": "acne_vulgaris",
    "treatment": "topical_retinoid",
    "monitoring_frequency": "weekly",
    "parameters": [
        "lesion_count",
        "inflammation_severity", 
        "side_effects",
        "patient_satisfaction"
    ],
    "expected_timeline": {
        "initial_response": "2_weeks",
        "significant_improvement": "12_weeks",
        "maximum_benefit": "24_weeks"
    }
}

monitoring_setup = setup_clinical_monitoring("patient_001", monitoring_params)
print("📊 Clinical monitoring setup:")
print(json.dumps(monitoring_setup, indent=2))
```

## PLN Knowledge Base Validation

```python
def validate_clinical_knowledge():
    """
    Validate clinical knowledge base consistency
    """
    headers = {
        'X-API-Key': deployment_result['api_key']
    }
    
    response = requests.get(f"{pln_endpoint}/knowledge/validate", headers=headers)
    validation = response.json() if response.status_code == 200 else {}
    
    print("🔍 Knowledge Base Validation:")
    print(f"   Total rules: {validation.get('total_rules', 'N/A')}")
    print(f"   Consistent rules: {validation.get('consistent_rules', 'N/A')}")
    print(f"   Contradictions found: {validation.get('contradictions', 'N/A')}")
    print(f"   Evidence coverage: {validation.get('evidence_coverage', 'N/A')}%")
    print(f"   Confidence distribution: {validation.get('confidence_stats', 'N/A')}")
    
    if validation.get('issues'):
        print("\\n⚠️ Knowledge Base Issues:")
        for issue in validation['issues'][:5]:
            print(f"   - {issue['type']}: {issue['description']}")

validate_clinical_knowledge()
```

## Performance Metrics

```python
def get_reasoning_metrics():
    """
    Get PLN reasoning performance metrics
    """
    headers = {
        'X-API-Key': deployment_result['api_key']
    }
    
    response = requests.get(f"{pln_endpoint}/metrics", headers=headers)
    metrics = response.json() if response.status_code == 200 else {}
    
    print("📈 PLN Reasoning Metrics:")
    print(f"   Inference queries: {metrics.get('inference_queries', 'N/A')}")
    print(f"   Average confidence: {metrics.get('average_confidence', 'N/A'):.3f}")
    print(f"   Clinical accuracy: {metrics.get('clinical_accuracy', 'N/A'):.3f}")
    print(f"   Evidence utilization: {metrics.get('evidence_utilization', 'N/A'):.3f}")
    print(f"   Response time: {metrics.get('average_response_time', 'N/A')}ms")
    
    # Reasoning type breakdown
    if metrics.get('reasoning_types'):
        print("\\n🔬 Reasoning Type Usage:")
        for rtype, count in metrics['reasoning_types'].items():
            print(f"   {rtype}: {count}")

get_reasoning_metrics()
```

## Cleanup

```python
# Clean up lab resources
print("🧹 Cleaning up PLN Clinical Reasoning lab...")

cleanup_result = utils.cleanup_lab(
    resource_group_name=resource_group_name,
    deployment_name=deployment_name
)

if cleanup_result:
    print("✅ Lab resources cleaned up successfully!")
else:
    print("⚠️ Some resources may need manual cleanup")
```

## Key Takeaways

This lab demonstrates:

1. **Probabilistic Reasoning**: How PLN handles uncertainty in clinical decision-making
2. **Evidence Integration**: Incorporation of clinical evidence into reasoning chains
3. **Differential Diagnosis**: Automated generation of differential diagnoses with probabilities
4. **Treatment Optimization**: Evidence-based treatment selection with personalization
5. **Uncertainty Quantification**: Explicit handling and quantification of clinical uncertainty
6. **Decision Support**: Real-time clinical decision support with confidence measures

## Clinical Reasoning Capabilities

- **Forward Chaining**: From symptoms to diagnosis
- **Backward Chaining**: From desired outcome to required conditions
- **Abductive Reasoning**: Best explanation for observed symptoms
- **Temporal Reasoning**: Understanding disease progression over time
- **Causal Reasoning**: Understanding cause-effect relationships

## Next Steps

- Explore [MOSES Treatment Optimization](../moses-treatment-optimization/moses-treatment-optimization.ipynb) for pattern-based therapy optimization
- Try [ESN Progression Modeling](../esn-progression-modeling/esn-progression-modeling.ipynb) for temporal disease modeling
- Experiment with [Medical Content Safety](../medical-content-safety/medical-content-safety.ipynb) for clinical output validation

## Medical Disclaimer

This PLN clinical reasoning system is designed for healthcare professional use and educational purposes. All reasoning outputs and clinical recommendations must be reviewed and validated by qualified medical professionals before any clinical application. This system supports but does not replace clinical judgment and professional medical decision-making.